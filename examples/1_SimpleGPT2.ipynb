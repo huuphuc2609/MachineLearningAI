{
 "cells": [
  {
   "cell_type": "code",
   "execution_count": 1,
   "metadata": {},
   "outputs": [],
   "source": [
    "import os\n",
    "from tqdm import tqdm\n",
    "\n",
    "import torch\n",
    "import torch.nn as nn\n",
    "import torch.nn.functional as F\n",
    "\n",
    "from models.gpt2 import GPT2\n",
    "\n",
    "device = torch.device(\"cuda\" if torch.cuda.is_available() else \"cpu\")"
   ]
  },
  {
   "cell_type": "markdown",
   "metadata": {},
   "source": [
    "# 1. Definition and training of a simple model"
   ]
  },
  {
   "cell_type": "markdown",
   "metadata": {},
   "source": [
    "### 1.1. Define tokenizer"
   ]
  },
  {
   "cell_type": "code",
   "execution_count": 2,
   "metadata": {},
   "outputs": [
    {
     "data": {
      "text/plain": [
       "50257"
      ]
     },
     "execution_count": 2,
     "metadata": {},
     "output_type": "execute_result"
    }
   ],
   "source": [
    "# Use pretrained tokenizer\n",
    "import tiktoken\n",
    "\n",
    "gpt2_tokenizer = tiktoken.encoding_for_model('gpt-2')\n",
    "gpt2_tokenizer.n_vocab\n",
    "\n",
    "### transformers from HuggingFace (slower) ###\n",
    "# from transformers import GPT2Tokenizer, AutoModelForCausalLM, AutoTokenizer\n",
    "# gpt2_tokenizer = GPT2Tokenizer.from_pretrained('gpt2')\n",
    "# print(gpt2_tokenizer.vocab_size)"
   ]
  },
  {
   "cell_type": "markdown",
   "metadata": {},
   "source": [
    "### 1.2. Hyper-parameters of ChatGPT model"
   ]
  },
  {
   "cell_type": "code",
   "execution_count": 3,
   "metadata": {},
   "outputs": [],
   "source": [
    "# size of the embeddings\n",
    "n_embd = 300 # 300 # 16\n",
    "n_head = 6\n",
    "n_layer = 10 # 10 # 6\n",
    "block_size = 128 # 256 # 4\n",
    "batch_size = 16 # 128 # 3\n",
    "dropout = 0.2\n",
    "learning_rate= 0.0005 # 3e-4 # 1e-4\n",
    "eval_interval = 5\n",
    "max_iters = 2000"
   ]
  },
  {
   "cell_type": "markdown",
   "metadata": {},
   "source": [
    "### 1.3. Define model variable"
   ]
  },
  {
   "cell_type": "code",
   "execution_count": 4,
   "metadata": {},
   "outputs": [],
   "source": [
    "m = GPT2(vocab_size=gpt2_tokenizer.n_vocab, block_size=block_size, n_embd=n_embd, n_head=n_head, n_layer=n_layer, dropout=dropout).to(device)"
   ]
  },
  {
   "cell_type": "markdown",
   "metadata": {},
   "source": [
    "### 1.4. Define how to sample a batch of data for training"
   ]
  },
  {
   "cell_type": "code",
   "execution_count": 5,
   "metadata": {},
   "outputs": [],
   "source": [
    "def get_batch(source, block_size, batch_size):\n",
    "    ''' Get batch of size block_size from source'''\n",
    "    # Generate 'batch_size' random offsets on the data\n",
    "    # ix = torch.randint(source.shape[1] - block_size, (batch_size,))\n",
    "    ix = torch.randint(len(source) - block_size, (batch_size,))\n",
    "    # Collect 'batch_size' subsequences of length 'block_size' \n",
    "    # from source, as data and target\n",
    "    x = torch.stack([source[i:i+block_size] for i in ix])\n",
    "    # Target is just x shifted right (i.e., the predicted token \n",
    "    # is the next in the sequence)\n",
    "    y = torch.stack([source[i+1:i+1+block_size] for i in ix])\n",
    "    return x.to(device), y.to(device)"
   ]
  },
  {
   "cell_type": "markdown",
   "metadata": {},
   "source": [
    "### 1.5. Open a sample text data for training"
   ]
  },
  {
   "cell_type": "code",
   "execution_count": null,
   "metadata": {},
   "outputs": [],
   "source": [
    "with open(os.path.join(\"sample_data\",\"tiny_shakespeare.txt\")) as f:\n",
    "    text = f.read()\n",
    "# Use tokenizer to encode text\n",
    "encoded_text = gpt2_tokenizer.encode(text)"
   ]
  },
  {
   "cell_type": "code",
   "execution_count": null,
   "metadata": {},
   "outputs": [
    {
     "name": "stdout",
     "output_type": "stream",
     "text": [
      "torch.Size([16, 128]) torch.Size([16, 128])\n"
     ]
    }
   ],
   "source": [
    "# Push encoded text to computational tensors\n",
    "tencoded_text = torch.tensor(encoded_text, dtype=torch.int64).to(device)\n",
    "# Test get_batch method()\n",
    "tmp_x, tmp_y = get_batch(tencoded_text, block_size=block_size, batch_size=batch_size)\n",
    "print(tmp_x.shape, tmp_y.shape)"
   ]
  },
  {
   "cell_type": "markdown",
   "metadata": {},
   "source": [
    "### 1.6. Training loop"
   ]
  },
  {
   "cell_type": "code",
   "execution_count": null,
   "metadata": {},
   "outputs": [
    {
     "name": "stderr",
     "output_type": "stream",
     "text": [
      "c:\\Users\\Felix\\anaconda3\\envs\\myproject\\Lib\\site-packages\\tqdm\\auto.py:21: TqdmWarning: IProgress not found. Please update jupyter and ipywidgets. See https://ipywidgets.readthedocs.io/en/stable/user_install.html\n",
      "  from .autonotebook import tqdm as notebook_tqdm\n",
      "100%|██████████| 2000/2000 [03:39<00:00,  9.09it/s]\n"
     ]
    }
   ],
   "source": [
    "## Train\n",
    "losses_list = [] # List to store losses during training\n",
    "# optimizer = torch.optim.Adam(m.parameters(), lr=learning_rate)\n",
    "## Define an optimizer for weights training\n",
    "optim = torch.optim.AdamW(m.parameters(), lr=learning_rate, weight_decay=0.1)\n",
    "scheduler = torch.optim.lr_scheduler.CosineAnnealingLR(optim, T_max=3000, eta_min=learning_rate*0.1)\n",
    "loss_fn = nn.CrossEntropyLoss()\n",
    "\n",
    "m.train() # Set model to training mode\n",
    "for ite in tqdm(range(max_iters)):\n",
    "    # Get a batch every iteration\n",
    "    input_ids, target_ids = get_batch(tencoded_text, block_size=block_size, batch_size=batch_size)\n",
    "    # Compute output from model given a batch\n",
    "    logits = m(input_ids)\n",
    "    logits = logits.view(batch_size * block_size, gpt2_tokenizer.n_vocab)\n",
    "    target_ids = target_ids.view(batch_size * block_size)\n",
    "    # Compute loss using the loss function\n",
    "    loss = loss_fn(logits, target_ids)  # Compute loss\n",
    "    # Append to list of losses for later analysis\n",
    "    losses_list.append(loss.detach().cpu().item())\n",
    "    # Backward\n",
    "    loss.backward()\n",
    "    # gradient clipping\n",
    "    torch.nn.utils.clip_grad_norm_(m.parameters(), max_norm=1)\n",
    "    optim.step()\n",
    "    scheduler.step()\n",
    "    #  @torch.no_grad()\n",
    "    # # eval loop: no backprop on this data, to avoid storing all intermediatte variables\n",
    "    # def eval_loss():\n",
    "    #     idx, targets = get_batch(valid_data)   #get a batch of validation data\n",
    "    #     logits = m(idx)   #forward pass\n",
    "    #     loss = F.cross_entropy(logits, targets)\n",
    "    #     print(f\"step {steps}, eval loss {loss.item():.2f}\")\n",
    "    #     return loss\n",
    "    \n",
    "    # if steps % eval_interval == 0: eval_loss().item()\n",
    "    # if ite % eval_interval == 0:\n",
    "    #     print(loss.detach().cpu().item())\n",
    "torch.cuda.empty_cache() # Clean cache memory\n",
    "# torch.save(m.state_dict(), os.path.join(\"mygpt2.m\")) # Save model to file for later usage"
   ]
  },
  {
   "cell_type": "markdown",
   "metadata": {},
   "source": [
    "### 1.7. Visualize training losses"
   ]
  },
  {
   "cell_type": "code",
   "execution_count": 9,
   "metadata": {},
   "outputs": [
    {
     "data": {
      "image/png": "[encoded data removed]",
      "text/plain": [
       "<Figure size 640x480 with 1 Axes>"
      ]
     },
     "metadata": {},
     "output_type": "display_data"
    }
   ],
   "source": [
    "import matplotlib.pyplot as plt\n",
    "\n",
    "plt.plot([i for i in range(len(losses_list))], losses_list)\n",
    "plt.grid(linestyle=\":\")\n",
    "plt.xlabel(\"Iteration\")\n",
    "plt.ylabel(\"Loss\")\n",
    "plt.show()"
   ]
  },
  {
   "cell_type": "code",
   "execution_count": 15,
   "metadata": {},
   "outputs": [
    {
     "data": {
      "text/plain": [
       "GPT2(\n",
       "  (token_embedding_table): Embedding(50257, 300)\n",
       "  (position_embedding_table): Embedding(128, 300)\n",
       "  (blocks): Sequential(\n",
       "    (0): Block(\n",
       "      (sa): MultiHeadAttention(\n",
       "        (heads): ModuleList(\n",
       "          (0-5): 6 x Head(\n",
       "            (key): Linear(in_features=300, out_features=50, bias=False)\n",
       "            (query): Linear(in_features=300, out_features=50, bias=False)\n",
       "            (value): Linear(in_features=300, out_features=50, bias=False)\n",
       "            (dropout): Dropout(p=0.2, inplace=False)\n",
       "          )\n",
       "        )\n",
       "        (proj): Linear(in_features=300, out_features=300, bias=True)\n",
       "        (dropout): Dropout(p=0.2, inplace=False)\n",
       "      )\n",
       "      (ffwd): FeedForward(\n",
       "        (net): Sequential(\n",
       "          (0): Linear(in_features=300, out_features=1200, bias=True)\n",
       "          (1): ReLU()\n",
       "          (2): Linear(in_features=1200, out_features=300, bias=True)\n",
       "          (3): Dropout(p=0.2, inplace=False)\n",
       "        )\n",
       "      )\n",
       "      (ln1): LayerNorm((300,), eps=1e-05, elementwise_affine=True)\n",
       "      (ln2): LayerNorm((300,), eps=1e-05, elementwise_affine=True)\n",
       "    )\n",
       "    (1): Block(\n",
       "      (sa): MultiHeadAttention(\n",
       "        (heads): ModuleList(\n",
       "          (0-5): 6 x Head(\n",
       "            (key): Linear(in_features=300, out_features=50, bias=False)\n",
       "            (query): Linear(in_features=300, out_features=50, bias=False)\n",
       "            (value): Linear(in_features=300, out_features=50, bias=False)\n",
       "            (dropout): Dropout(p=0.2, inplace=False)\n",
       "          )\n",
       "        )\n",
       "        (proj): Linear(in_features=300, out_features=300, bias=True)\n",
       "        (dropout): Dropout(p=0.2, inplace=False)\n",
       "      )\n",
       "      (ffwd): FeedForward(\n",
       "        (net): Sequential(\n",
       "          (0): Linear(in_features=300, out_features=1200, bias=True)\n",
       "          (1): ReLU()\n",
       "          (2): Linear(in_features=1200, out_features=300, bias=True)\n",
       "          (3): Dropout(p=0.2, inplace=False)\n",
       "        )\n",
       "      )\n",
       "      (ln1): LayerNorm((300,), eps=1e-05, elementwise_affine=True)\n",
       "      (ln2): LayerNorm((300,), eps=1e-05, elementwise_affine=True)\n",
       "    )\n",
       "    (2): Block(\n",
       "      (sa): MultiHeadAttention(\n",
       "        (heads): ModuleList(\n",
       "          (0-5): 6 x Head(\n",
       "            (key): Linear(in_features=300, out_features=50, bias=False)\n",
       "            (query): Linear(in_features=300, out_features=50, bias=False)\n",
       "            (value): Linear(in_features=300, out_features=50, bias=False)\n",
       "            (dropout): Dropout(p=0.2, inplace=False)\n",
       "          )\n",
       "        )\n",
       "        (proj): Linear(in_features=300, out_features=300, bias=True)\n",
       "        (dropout): Dropout(p=0.2, inplace=False)\n",
       "      )\n",
       "      (ffwd): FeedForward(\n",
       "        (net): Sequential(\n",
       "          (0): Linear(in_features=300, out_features=1200, bias=True)\n",
       "          (1): ReLU()\n",
       "          (2): Linear(in_features=1200, out_features=300, bias=True)\n",
       "          (3): Dropout(p=0.2, inplace=False)\n",
       "        )\n",
       "      )\n",
       "      (ln1): LayerNorm((300,), eps=1e-05, elementwise_affine=True)\n",
       "      (ln2): LayerNorm((300,), eps=1e-05, elementwise_affine=True)\n",
       "    )\n",
       "    (3): Block(\n",
       "      (sa): MultiHeadAttention(\n",
       "        (heads): ModuleList(\n",
       "          (0-5): 6 x Head(\n",
       "            (key): Linear(in_features=300, out_features=50, bias=False)\n",
       "            (query): Linear(in_features=300, out_features=50, bias=False)\n",
       "            (value): Linear(in_features=300, out_features=50, bias=False)\n",
       "            (dropout): Dropout(p=0.2, inplace=False)\n",
       "          )\n",
       "        )\n",
       "        (proj): Linear(in_features=300, out_features=300, bias=True)\n",
       "        (dropout): Dropout(p=0.2, inplace=False)\n",
       "      )\n",
       "      (ffwd): FeedForward(\n",
       "        (net): Sequential(\n",
       "          (0): Linear(in_features=300, out_features=1200, bias=True)\n",
       "          (1): ReLU()\n",
       "          (2): Linear(in_features=1200, out_features=300, bias=True)\n",
       "          (3): Dropout(p=0.2, inplace=False)\n",
       "        )\n",
       "      )\n",
       "      (ln1): LayerNorm((300,), eps=1e-05, elementwise_affine=True)\n",
       "      (ln2): LayerNorm((300,), eps=1e-05, elementwise_affine=True)\n",
       "    )\n",
       "    (4): Block(\n",
       "      (sa): MultiHeadAttention(\n",
       "        (heads): ModuleList(\n",
       "          (0-5): 6 x Head(\n",
       "            (key): Linear(in_features=300, out_features=50, bias=False)\n",
       "            (query): Linear(in_features=300, out_features=50, bias=False)\n",
       "            (value): Linear(in_features=300, out_features=50, bias=False)\n",
       "            (dropout): Dropout(p=0.2, inplace=False)\n",
       "          )\n",
       "        )\n",
       "        (proj): Linear(in_features=300, out_features=300, bias=True)\n",
       "        (dropout): Dropout(p=0.2, inplace=False)\n",
       "      )\n",
       "      (ffwd): FeedForward(\n",
       "        (net): Sequential(\n",
       "          (0): Linear(in_features=300, out_features=1200, bias=True)\n",
       "          (1): ReLU()\n",
       "          (2): Linear(in_features=1200, out_features=300, bias=True)\n",
       "          (3): Dropout(p=0.2, inplace=False)\n",
       "        )\n",
       "      )\n",
       "      (ln1): LayerNorm((300,), eps=1e-05, elementwise_affine=True)\n",
       "      (ln2): LayerNorm((300,), eps=1e-05, elementwise_affine=True)\n",
       "    )\n",
       "    (5): Block(\n",
       "      (sa): MultiHeadAttention(\n",
       "        (heads): ModuleList(\n",
       "          (0-5): 6 x Head(\n",
       "            (key): Linear(in_features=300, out_features=50, bias=False)\n",
       "            (query): Linear(in_features=300, out_features=50, bias=False)\n",
       "            (value): Linear(in_features=300, out_features=50, bias=False)\n",
       "            (dropout): Dropout(p=0.2, inplace=False)\n",
       "          )\n",
       "        )\n",
       "        (proj): Linear(in_features=300, out_features=300, bias=True)\n",
       "        (dropout): Dropout(p=0.2, inplace=False)\n",
       "      )\n",
       "      (ffwd): FeedForward(\n",
       "        (net): Sequential(\n",
       "          (0): Linear(in_features=300, out_features=1200, bias=True)\n",
       "          (1): ReLU()\n",
       "          (2): Linear(in_features=1200, out_features=300, bias=True)\n",
       "          (3): Dropout(p=0.2, inplace=False)\n",
       "        )\n",
       "      )\n",
       "      (ln1): LayerNorm((300,), eps=1e-05, elementwise_affine=True)\n",
       "      (ln2): LayerNorm((300,), eps=1e-05, elementwise_affine=True)\n",
       "    )\n",
       "    (6): Block(\n",
       "      (sa): MultiHeadAttention(\n",
       "        (heads): ModuleList(\n",
       "          (0-5): 6 x Head(\n",
       "            (key): Linear(in_features=300, out_features=50, bias=False)\n",
       "            (query): Linear(in_features=300, out_features=50, bias=False)\n",
       "            (value): Linear(in_features=300, out_features=50, bias=False)\n",
       "            (dropout): Dropout(p=0.2, inplace=False)\n",
       "          )\n",
       "        )\n",
       "        (proj): Linear(in_features=300, out_features=300, bias=True)\n",
       "        (dropout): Dropout(p=0.2, inplace=False)\n",
       "      )\n",
       "      (ffwd): FeedForward(\n",
       "        (net): Sequential(\n",
       "          (0): Linear(in_features=300, out_features=1200, bias=True)\n",
       "          (1): ReLU()\n",
       "          (2): Linear(in_features=1200, out_features=300, bias=True)\n",
       "          (3): Dropout(p=0.2, inplace=False)\n",
       "        )\n",
       "      )\n",
       "      (ln1): LayerNorm((300,), eps=1e-05, elementwise_affine=True)\n",
       "      (ln2): LayerNorm((300,), eps=1e-05, elementwise_affine=True)\n",
       "    )\n",
       "    (7): Block(\n",
       "      (sa): MultiHeadAttention(\n",
       "        (heads): ModuleList(\n",
       "          (0-5): 6 x Head(\n",
       "            (key): Linear(in_features=300, out_features=50, bias=False)\n",
       "            (query): Linear(in_features=300, out_features=50, bias=False)\n",
       "            (value): Linear(in_features=300, out_features=50, bias=False)\n",
       "            (dropout): Dropout(p=0.2, inplace=False)\n",
       "          )\n",
       "        )\n",
       "        (proj): Linear(in_features=300, out_features=300, bias=True)\n",
       "        (dropout): Dropout(p=0.2, inplace=False)\n",
       "      )\n",
       "      (ffwd): FeedForward(\n",
       "        (net): Sequential(\n",
       "          (0): Linear(in_features=300, out_features=1200, bias=True)\n",
       "          (1): ReLU()\n",
       "          (2): Linear(in_features=1200, out_features=300, bias=True)\n",
       "          (3): Dropout(p=0.2, inplace=False)\n",
       "        )\n",
       "      )\n",
       "      (ln1): LayerNorm((300,), eps=1e-05, elementwise_affine=True)\n",
       "      (ln2): LayerNorm((300,), eps=1e-05, elementwise_affine=True)\n",
       "    )\n",
       "    (8): Block(\n",
       "      (sa): MultiHeadAttention(\n",
       "        (heads): ModuleList(\n",
       "          (0-5): 6 x Head(\n",
       "            (key): Linear(in_features=300, out_features=50, bias=False)\n",
       "            (query): Linear(in_features=300, out_features=50, bias=False)\n",
       "            (value): Linear(in_features=300, out_features=50, bias=False)\n",
       "            (dropout): Dropout(p=0.2, inplace=False)\n",
       "          )\n",
       "        )\n",
       "        (proj): Linear(in_features=300, out_features=300, bias=True)\n",
       "        (dropout): Dropout(p=0.2, inplace=False)\n",
       "      )\n",
       "      (ffwd): FeedForward(\n",
       "        (net): Sequential(\n",
       "          (0): Linear(in_features=300, out_features=1200, bias=True)\n",
       "          (1): ReLU()\n",
       "          (2): Linear(in_features=1200, out_features=300, bias=True)\n",
       "          (3): Dropout(p=0.2, inplace=False)\n",
       "        )\n",
       "      )\n",
       "      (ln1): LayerNorm((300,), eps=1e-05, elementwise_affine=True)\n",
       "      (ln2): LayerNorm((300,), eps=1e-05, elementwise_affine=True)\n",
       "    )\n",
       "    (9): Block(\n",
       "      (sa): MultiHeadAttention(\n",
       "        (heads): ModuleList(\n",
       "          (0-5): 6 x Head(\n",
       "            (key): Linear(in_features=300, out_features=50, bias=False)\n",
       "            (query): Linear(in_features=300, out_features=50, bias=False)\n",
       "            (value): Linear(in_features=300, out_features=50, bias=False)\n",
       "            (dropout): Dropout(p=0.2, inplace=False)\n",
       "          )\n",
       "        )\n",
       "        (proj): Linear(in_features=300, out_features=300, bias=True)\n",
       "        (dropout): Dropout(p=0.2, inplace=False)\n",
       "      )\n",
       "      (ffwd): FeedForward(\n",
       "        (net): Sequential(\n",
       "          (0): Linear(in_features=300, out_features=1200, bias=True)\n",
       "          (1): ReLU()\n",
       "          (2): Linear(in_features=1200, out_features=300, bias=True)\n",
       "          (3): Dropout(p=0.2, inplace=False)\n",
       "        )\n",
       "      )\n",
       "      (ln1): LayerNorm((300,), eps=1e-05, elementwise_affine=True)\n",
       "      (ln2): LayerNorm((300,), eps=1e-05, elementwise_affine=True)\n",
       "    )\n",
       "  )\n",
       "  (ln): LayerNorm((300,), eps=1e-05, elementwise_affine=True)\n",
       "  (lm_head): Linear(in_features=300, out_features=50257, bias=False)\n",
       ")"
      ]
     },
     "execution_count": 15,
     "metadata": {},
     "output_type": "execute_result"
    }
   ],
   "source": [
    "m = GPT2(vocab_size=gpt2_tokenizer.n_vocab, block_size=block_size, n_embd=n_embd, n_head=n_head, n_layer=n_layer, dropout=dropout).to(device)\n",
    "m.load_state_dict(torch.load(os.path.join(\"mygpt2.m\"), weights_only=True))\n",
    "m.eval()"
   ]
  },
  {
   "cell_type": "markdown",
   "metadata": {},
   "source": [
    "# 2. Prediction"
   ]
  },
  {
   "cell_type": "code",
   "execution_count": null,
   "metadata": {},
   "outputs": [
    {
     "name": "stdout",
     "output_type": "stream",
     "text": [
      "Original message: Hello my friend\n",
      "Decoded prompt: Hello my friend\n",
      "gen_text: tensor([[15496,   616,  1545,    11,   198,  2514, 44192,   298,   706,   502,\n",
      "           284, 10597,   314,   481,  7630,  3812,    13,   198,   198,    48,\n",
      "          8924,  1677, 18805,    38,  1503,  2767,    25,   198,  9590, 33164,\n",
      "           616,  1021,     0, 11778,    11,   198,  1870,   284, 29702,    11,\n",
      "           198, 16678,  1302,   502,   326, 43929, 43159,  1365,  2988,   616,\n",
      "          1751,   287,   262, 33200,    11,   198,  1870, 41276,  4492,    11,\n",
      "          1577,   683,  1626,   502,  6227,   198,  1870, 10443,   284, 10717,\n",
      "           326,  9245, 12722,   262,  1573,    13,   198, 23303,    11,  1011,\n",
      "           674,   898,  2832,    26,   198,  6090, 12703,   736,  1793,    11,\n",
      "           198,    48,  8924,  1677, 18805,    38,  1503,  2767,    25,   198,\n",
      "          3666,  2802,    13,   198,   198, 16279,    54, 11860,    25,   198,\n",
      "            40,   910, 12722,   262,  1182,   318, 11468,   736,    13,   198,\n",
      "           198, 37286,  8392, 39743,    25,   198,   464,   543,   318,   534,\n",
      "          7711,    11,   198,  1870,   329,   262,  1029,   734,   256,   461,\n",
      "          7800,  5123,   345,  1577,   514,   355, 16795,   306, 24140, 22027,\n",
      "          1908,   286, 12835]], device='cuda:0')\n",
      "decoded_text: Hello my friend,\n",
      "To undeent after me to till I will profit toward.\n",
      "\n",
      "QUEEN MARGARET:\n",
      "Still fares my hand! slave,\n",
      "And to Venice,\n",
      "Such stand me that heinous Clifford better father my children in the lords,\n",
      "And virtuous England, give him within me desire\n",
      "And Edward to stem that kiss unto the word.\n",
      "Ha, take our own hands;\n",
      "Can quietly back God,\n",
      "QUEEN MARGARET:\n",
      "My mother.\n",
      "\n",
      "WARWICK:\n",
      "I say unto the head is fled back.\n",
      "\n",
      "KING EDWARD:\n",
      "The which is your uncle,\n",
      "And for the high two tak yield murder you give us as interprely sorrow hath sent of leaf\n"
     ]
    }
   ],
   "source": [
    "# Set model to prediction mode\n",
    "m.eval()\n",
    "# Define a sample prompt\n",
    "tmp_prompt = \"Hello my friend\"\n",
    "# Encode the prompt text into machine understandable vector\n",
    "encoded_prompt = gpt2_tokenizer.encode(tmp_prompt)\n",
    "# Try to decode the prompt to veryfy the tokenizer module\n",
    "decoded_prompt = gpt2_tokenizer.decode(encoded_prompt)\n",
    "print(\"Original message:\", tmp_prompt)\n",
    "print(\"Decoded prompt:\", decoded_prompt)\n",
    "# Convert encoded prompt to tensor\n",
    "tmp_input = torch.tensor([encoded_prompt], dtype=torch.int64).to(device)\n",
    "# Generate text using the model given the prompt\n",
    "gen_text = m.generate(tmp_input, max_new_tokens=150)\n",
    "print(\"gen_text:\",gen_text)\n",
    "# Decode into human understandable text\n",
    "decoded_text = gpt2_tokenizer.decode(gen_text[0].detach().cpu().tolist())\n",
    "print(\"decoded_text:\",decoded_text)"
   ]
  }
 ],
 "metadata": {
  "kernelspec": {
   "display_name": "myproject",
   "language": "python",
   "name": "python3"
  },
  "language_info": {
   "codemirror_mode": {
    "name": "ipython",
    "version": 3
   },
   "file_extension": ".py",
   "mimetype": "text/x-python",
   "name": "python",
   "nbconvert_exporter": "python",
   "pygments_lexer": "ipython3",
   "version": "3.12.1"
  }
 },
 "nbformat": 4,
 "nbformat_minor": 2
}
